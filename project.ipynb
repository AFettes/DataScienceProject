{
 "cells": [
  {
   "cell_type": "code",
   "execution_count": 56,
   "metadata": {},
   "outputs": [],
   "source": [
    "import numpy as np\n",
    "import pandas as pd\n",
    "import matplotlib.pyplot as plt\n",
    "import sys\n",
    "from os import listdir\n",
    "from os.path import isfile, join\n",
    "import cv2\n",
    "import imageio\n",
    "from sklearn.model_selection import train_test_split\n",
    "from sklearn.decomposition import PCA\n",
    "from sklearn.pipeline import make_pipeline\n",
    "from sklearn.svm import SVC\n",
    "from sklearn.preprocessing import StandardScaler\n",
    "from sklearn.naive_bayes import GaussianNB\n",
    "from sklearn.neighbors import KNeighborsClassifier"
   ]
  },
  {
   "cell_type": "code",
   "execution_count": 2,
   "metadata": {
    "collapsed": true
   },
   "outputs": [],
   "source": [
    "imagesDir = 'katkam-scaled'\n",
    "weatherDataDir = 'yvr-weather'\n",
    "   #https://stackoverflow.com/questions/33369832/read-multiple-images-on-a-folder-in-opencv-python\n",
    "onlyfiles = [ f for f in listdir(imagesDir) if isfile(join(imagesDir,f)) ]"
   ]
  },
  {
   "cell_type": "code",
   "execution_count": 3,
   "metadata": {
    "collapsed": true
   },
   "outputs": [],
   "source": [
    "images = np.empty(len(onlyfiles), dtype=object)\n",
    "\n",
    "for n in range(0, len(onlyfiles)):\n",
    "      images[n] = cv2.imread( join(imagesDir,onlyfiles[n]) )"
   ]
  },
  {
   "cell_type": "code",
   "execution_count": 4,
   "metadata": {
    "collapsed": true
   },
   "outputs": [],
   "source": [
    "weatherDataFiles = [ f for f in listdir(weatherDataDir) if isfile(join(weatherDataDir,f)) ]"
   ]
  },
  {
   "cell_type": "code",
   "execution_count": 5,
   "metadata": {
    "collapsed": true
   },
   "outputs": [],
   "source": [
    "weatherData = pd.read_csv(join(weatherDataDir, weatherDataFiles[0]), usecols=[1, 2, 3, 4, 6, 24], skiprows=np.linspace(0, 15))"
   ]
  },
  {
   "cell_type": "code",
   "execution_count": 6,
   "metadata": {
    "collapsed": true
   },
   "outputs": [],
   "source": [
    "for n in range(1, len(weatherDataFiles)):\n",
    "    weatherData = weatherData.append(pd.read_csv(join(weatherDataDir, weatherDataFiles[n]), usecols=[1, 2, 3, 4, 6, 24], skiprows=np.linspace(0, 15)))\n",
    "    "
   ]
  },
  {
   "cell_type": "code",
   "execution_count": 7,
   "metadata": {
    "collapsed": true
   },
   "outputs": [],
   "source": [
    "weatherDataCleaned = weatherData.dropna().reset_index(drop=True)"
   ]
  },
  {
   "cell_type": "code",
   "execution_count": 8,
   "metadata": {
    "collapsed": true
   },
   "outputs": [],
   "source": [
    "weatherDataCleaned['ID'] = weatherDataCleaned['Year']*1e6 + weatherDataCleaned['Month']*1e4 + weatherDataCleaned['Day']*1e2 + weatherDataCleaned['Time'].str.slice(0, 2).astype(float)\n",
    "weatherDataCleaned['ID'] = weatherDataCleaned['ID'].astype(int)"
   ]
  },
  {
   "cell_type": "code",
   "execution_count": 9,
   "metadata": {
    "collapsed": true
   },
   "outputs": [],
   "source": [
    "actualImages = np.empty([weatherDataCleaned.shape[0], 192, 256, 3], dtype=np.uint8)"
   ]
  },
  {
   "cell_type": "code",
   "execution_count": 10,
   "metadata": {
    "collapsed": true
   },
   "outputs": [],
   "source": [
    "numImages = 0\n",
    "imageIdx = np.full(weatherDataCleaned.shape[0], -1)\n",
    "for n in range(0, weatherDataCleaned.shape[0]):\n",
    "    filename = \"katkam-\" + str(weatherDataCleaned['ID'][n]) + \"0000\" + \".jpg\"\n",
    "    if (filename in onlyfiles):\n",
    "        actualImages[numImages, :, :, :] = imageio.imread(join(imagesDir, filename))\n",
    "        imageIdx[n] = numImages\n",
    "        numImages = numImages+1"
   ]
  },
  {
   "cell_type": "code",
   "execution_count": 11,
   "metadata": {
    "collapsed": true
   },
   "outputs": [],
   "source": [
    "weatherDataCleaned['hasImage'] = imageIdx"
   ]
  },
  {
   "cell_type": "code",
   "execution_count": 12,
   "metadata": {
    "collapsed": true
   },
   "outputs": [],
   "source": [
    "weatherDataCleaned = weatherDataCleaned[weatherDataCleaned['hasImage'] >= 0]\n",
    "actualImages = actualImages[ 0:numImages, :, :, :]"
   ]
  },
  {
   "cell_type": "code",
   "execution_count": 13,
   "metadata": {
    "collapsed": true
   },
   "outputs": [],
   "source": [
    "greyImages = np.uint8((actualImages[:, :, :, 0].astype(np.float) + actualImages[:, :, :, 1].astype(np.float) + actualImages[:, :, :, 2].astype(np.float))/3)"
   ]
  },
  {
   "cell_type": "code",
   "execution_count": 14,
   "metadata": {},
   "outputs": [],
   "source": [
    "#unravelled = greyImages.reshape(np.shape(greyImages)[0], np.shape(greyImages)[1]*np.shape(greyImages)[2])\n",
    "#unravelled[100, 0:2560:256]\n",
    "#images_train, images_test, names_train, names_test = train_test_split(unravelled, weatherDataCleaned['Weather'].values)\n",
    "#myModel = make_pipeline(\n",
    "    #PCA(200),\n",
    "    #SVC(C=1))\n",
    "#myModel.fit(images_train, names_train)\n",
    "#myModel.score(images_test, names_test)"
   ]
  },
  {
   "cell_type": "code",
   "execution_count": 15,
   "metadata": {
    "collapsed": true
   },
   "outputs": [],
   "source": [
    "skies = actualImages[:, 0:100, :, :]"
   ]
  },
  {
   "cell_type": "code",
   "execution_count": 16,
   "metadata": {},
   "outputs": [],
   "source": [
    "blueness = (skies[:, :, :, 2].sum(axis=(1, 2)))/(skies[:, :, :, :].sum(axis=(1, 2, 3)))"
   ]
  },
  {
   "cell_type": "code",
   "execution_count": 17,
   "metadata": {
    "collapsed": true
   },
   "outputs": [],
   "source": [
    "lightlevel = (skies[:, :, :, :].sum(axis=(1, 2, 3)))"
   ]
  },
  {
   "cell_type": "code",
   "execution_count": 18,
   "metadata": {
    "collapsed": true
   },
   "outputs": [],
   "source": [
    "weatherDataCleaned['Blueness'] = blueness"
   ]
  },
  {
   "cell_type": "code",
   "execution_count": 29,
   "metadata": {},
   "outputs": [],
   "source": [
    "weatherDataCleaned['Brightness'] = lightlevel"
   ]
  },
  {
   "cell_type": "code",
   "execution_count": 30,
   "metadata": {},
   "outputs": [],
   "source": [
    "weatherDataReady = weatherDataCleaned[weatherDataCleaned['Brightness'] > 6000000]"
   ]
  },
  {
   "cell_type": "code",
   "execution_count": 119,
   "metadata": {},
   "outputs": [
    {
     "data": {
      "image/png": "[encoded data removed]",
      "text/plain": [
       "<matplotlib.figure.Figure at 0x28429101cc0>"
      ]
     },
     "metadata": {},
     "output_type": "display_data"
    }
   ],
   "source": [
    "# Find blueness of sky\n",
    "# Cutoff sky part\n",
    "plt.imshow(actualImages[2831, :, :, :])\n",
    "plt.show()"
   ]
  },
  {
   "cell_type": "code",
   "execution_count": 32,
   "metadata": {},
   "outputs": [
    {
     "data": {
      "text/plain": [
       "array([10898682, 12242949, 14474643, ..., 15233917, 15117650, 11938390], dtype=uint32)"
      ]
     },
     "execution_count": 32,
     "metadata": {},
     "output_type": "execute_result"
    }
   ],
   "source": [
    "lightlevel"
   ]
  },
  {
   "cell_type": "code",
   "execution_count": 33,
   "metadata": {},
   "outputs": [],
   "source": [
    "parameters = weatherDataReady[['Blueness', 'Brightness']].values"
   ]
  },
  {
   "cell_type": "code",
   "execution_count": 34,
   "metadata": {},
   "outputs": [
    {
     "data": {
      "text/plain": [
       "(2707, 2)"
      ]
     },
     "execution_count": 34,
     "metadata": {},
     "output_type": "execute_result"
    }
   ],
   "source": [
    "np.shape(parameters)"
   ]
  },
  {
   "cell_type": "code",
   "execution_count": 109,
   "metadata": {},
   "outputs": [],
   "source": [
    "images_train, images_test, names_train, names_test = train_test_split(weatherDataReady[['Blueness', 'Brightness']].values, weatherDataReady[['Weather']].values)\n",
    "myModel = make_pipeline(\n",
    "    StandardScaler(),\n",
    "    SVC(C=1))"
   ]
  },
  {
   "cell_type": "code",
   "execution_count": 110,
   "metadata": {},
   "outputs": [
    {
     "data": {
      "text/plain": [
       "(2030, 1)"
      ]
     },
     "execution_count": 110,
     "metadata": {},
     "output_type": "execute_result"
    }
   ],
   "source": [
    "np.shape(names_train)"
   ]
  },
  {
   "cell_type": "code",
   "execution_count": 111,
   "metadata": {},
   "outputs": [
    {
     "name": "stderr",
     "output_type": "stream",
     "text": [
      "C:\\Users\\adria\\Anaconda3\\lib\\site-packages\\sklearn\\utils\\validation.py:526: DataConversionWarning: A column-vector y was passed when a 1d array was expected. Please change the shape of y to (n_samples, ), for example using ravel().\n",
      "  y = column_or_1d(y, warn=True)\n"
     ]
    },
    {
     "data": {
      "text/plain": [
       "Pipeline(steps=[('standardscaler', StandardScaler(copy=True, with_mean=True, with_std=True)), ('svc', SVC(C=1, cache_size=200, class_weight=None, coef0=0.0,\n",
       "  decision_function_shape=None, degree=3, gamma='auto', kernel='rbf',\n",
       "  max_iter=-1, probability=False, random_state=None, shrinking=True,\n",
       "  tol=0.001, verbose=False))])"
      ]
     },
     "execution_count": 111,
     "metadata": {},
     "output_type": "execute_result"
    }
   ],
   "source": [
    "myModel.fit(images_train, names_train)"
   ]
  },
  {
   "cell_type": "code",
   "execution_count": 112,
   "metadata": {},
   "outputs": [
    {
     "data": {
      "text/plain": [
       "0.3988183161004431"
      ]
     },
     "execution_count": 112,
     "metadata": {},
     "output_type": "execute_result"
    }
   ],
   "source": [
    "myModel.score(images_test, names_test)"
   ]
  },
  {
   "cell_type": "code",
   "execution_count": 115,
   "metadata": {},
   "outputs": [
    {
     "data": {
      "text/plain": [
       "array(['Mainly Clear', 'Mostly Cloudy', 'Cloudy', 'Rain Showers',\n",
       "       'Moderate Rain Showers', 'Clear', 'Rain', 'Rain,Fog', 'Drizzle',\n",
       "       'Rain Showers,Fog', 'Thunderstorms', 'Fog', 'Drizzle,Fog',\n",
       "       'Moderate Rain Showers,Fog', 'Rain,Drizzle', 'Moderate Rain',\n",
       "       'Moderate Rain,Drizzle', 'Moderate Rain,Fog', 'Rain,Drizzle,Fog',\n",
       "       'Heavy Rain,Fog', 'Snow', 'Snow,Fog', 'Rain,Snow', 'Freezing Fog',\n",
       "       'Rain,Snow,Fog', 'Moderate Snow', 'Snow Showers',\n",
       "       'Rain Showers,Snow Showers,Fog', 'Rain Showers,Snow Pellets',\n",
       "       'Rain Showers,Snow Showers',\n",
       "       'Heavy Rain Showers,Moderate Snow Pellets,Fog',\n",
       "       'Heavy Rain,Moderate Hail,Fog'], dtype=object)"
      ]
     },
     "execution_count": 115,
     "metadata": {},
     "output_type": "execute_result"
    }
   ],
   "source": [
    "weatherDataReady['Weather'].unique()"
   ]
  },
  {
   "cell_type": "code",
   "execution_count": 117,
   "metadata": {},
   "outputs": [
    {
     "data": {
      "text/html": [
       "<div>\n",
       "<style>\n",
       "    .dataframe thead tr:only-child th {\n",
       "        text-align: right;\n",
       "    }\n",
       "\n",
       "    .dataframe thead th {\n",
       "        text-align: left;\n",
       "    }\n",
       "\n",
       "    .dataframe tbody tr th {\n",
       "        vertical-align: top;\n",
       "    }\n",
       "</style>\n",
       "<table border=\"1\" class=\"dataframe\">\n",
       "  <thead>\n",
       "    <tr style=\"text-align: right;\">\n",
       "      <th></th>\n",
       "      <th>Year</th>\n",
       "      <th>Month</th>\n",
       "      <th>Day</th>\n",
       "      <th>Time</th>\n",
       "      <th>Temp (°C)</th>\n",
       "      <th>Weather</th>\n",
       "      <th>ID</th>\n",
       "      <th>hasImage</th>\n",
       "      <th>Blueness</th>\n",
       "      <th>LightLevel</th>\n",
       "      <th>Brightness</th>\n",
       "    </tr>\n",
       "  </thead>\n",
       "  <tbody>\n",
       "    <tr>\n",
       "      <th>5440</th>\n",
       "      <td>2017</td>\n",
       "      <td>10</td>\n",
       "      <td>12</td>\n",
       "      <td>08:00</td>\n",
       "      <td>6.2</td>\n",
       "      <td>Heavy Rain Showers,Moderate Snow Pellets,Fog</td>\n",
       "      <td>2017101208</td>\n",
       "      <td>2831</td>\n",
       "      <td>0.332799</td>\n",
       "      <td>16263246</td>\n",
       "      <td>16263246</td>\n",
       "    </tr>\n",
       "  </tbody>\n",
       "</table>\n",
       "</div>"
      ],
      "text/plain": [
       "      Year  Month  Day   Time  Temp (°C)  \\\n",
       "5440  2017     10   12  08:00        6.2   \n",
       "\n",
       "                                           Weather          ID  hasImage  \\\n",
       "5440  Heavy Rain Showers,Moderate Snow Pellets,Fog  2017101208      2831   \n",
       "\n",
       "      Blueness  LightLevel  Brightness  \n",
       "5440  0.332799    16263246    16263246  "
      ]
     },
     "execution_count": 117,
     "metadata": {},
     "output_type": "execute_result"
    }
   ],
   "source": [
    "weatherDataReady[weatherDataReady['Weather'] == 'Heavy Rain Showers,Moderate Snow Pellets,Fog']"
   ]
  },
  {
   "cell_type": "code",
   "execution_count": null,
   "metadata": {
    "collapsed": true
   },
   "outputs": [],
   "source": []
  }
 ],
 "metadata": {
  "kernelspec": {
   "display_name": "Python 3",
   "language": "python",
   "name": "python3"
  },
  "language_info": {
   "codemirror_mode": {
    "name": "ipython",
    "version": 3
   },
   "file_extension": ".py",
   "mimetype": "text/x-python",
   "name": "python",
   "nbconvert_exporter": "python",
   "pygments_lexer": "ipython3",
   "version": "3.6.1"
  }
 },
 "nbformat": 4,
 "nbformat_minor": 2
}
